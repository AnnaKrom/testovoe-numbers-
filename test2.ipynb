{
 "cells": [
  {
   "cell_type": "code",
   "execution_count": 13,
   "metadata": {},
   "outputs": [
    {
     "name": "stdout",
     "output_type": "stream",
     "text": [
      "98-7+65+43+2-1-0 = 200\n"
     ]
    }
   ],
   "source": [
    "import random\n",
    "\n",
    "numbers = '9876543210'\n",
    "symbol = ['-','+',''] \n",
    "chislo = ''\n",
    "x = 0\n",
    "\n",
    "while x != 200:\n",
    "    x = 0\n",
    "    stroka = ''\n",
    "    for i in numbers:\n",
    "            if i != numbers[-1]:\n",
    "                stroka += i + random.choice(symbol)\n",
    "            else:\n",
    "                stroka += i \n",
    "\n",
    "    for i in range(len(stroka)):\n",
    "            if stroka[i] in symbol:\n",
    "                x = int(stroka[:i])\n",
    "                znak = stroka[i]\n",
    "                ind = i\n",
    "                break\n",
    "\n",
    "\n",
    "    for i in range(ind+1,len(stroka)):\n",
    "        if stroka[i] not in symbol:\n",
    "            chislo += stroka[i]\n",
    "        else:\n",
    "            if znak == '-':\n",
    "                x -= int(chislo)\n",
    "                chislo = ''\n",
    "            if znak == '+':\n",
    "                x += int(chislo) \n",
    "                chislo = ''  \n",
    "            znak = stroka[i]     \n",
    "\n",
    "\n",
    "print(stroka,'=', x)"
   ]
  }
 ],
 "metadata": {
  "kernelspec": {
   "display_name": "Python 3",
   "language": "python",
   "name": "python3"
  },
  "language_info": {
   "codemirror_mode": {
    "name": "ipython",
    "version": 3
   },
   "file_extension": ".py",
   "mimetype": "text/x-python",
   "name": "python",
   "nbconvert_exporter": "python",
   "pygments_lexer": "ipython3",
   "version": "3.12.7"
  }
 },
 "nbformat": 4,
 "nbformat_minor": 2
}
